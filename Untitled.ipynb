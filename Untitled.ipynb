{
 "cells": [
  {
   "cell_type": "code",
   "execution_count": 2,
   "id": "bd3dbb0d",
   "metadata": {},
   "outputs": [
    {
     "ename": "SyntaxError",
     "evalue": "invalid syntax (442038722.py, line 2)",
     "output_type": "error",
     "traceback": [
      "\u001b[1;36m  Cell \u001b[1;32mIn[2], line 2\u001b[1;36m\u001b[0m\n\u001b[1;33m    using namespace std;\u001b[0m\n\u001b[1;37m          ^\u001b[0m\n\u001b[1;31mSyntaxError\u001b[0m\u001b[1;31m:\u001b[0m invalid syntax\n"
     ]
    }
   ],
   "source": [
    "#include <iostream>\n",
    "using namespace std;\n",
    "int main()\n",
    "{\n",
    "    unsigned int n;\n",
    "    cin>>n;\n",
    "    for(int i=1;i<=n;i++)\n",
    "    {\n",
    "        for(int j=1;j<=i;j++)\n",
    "        {\n",
    "            cout<<\"*\";\n",
    "        }\n",
    "        cout<<endl;\n",
    "    }\n",
    "    return 0;\n",
    "}"
   ]
  },
  {
   "cell_type": "code",
   "execution_count": 3,
   "id": "a56b39f1",
   "metadata": {},
   "outputs": [
    {
     "ename": "NameError",
     "evalue": "name 'vsd' is not defined",
     "output_type": "error",
     "traceback": [
      "\u001b[1;31m---------------------------------------------------------------------------\u001b[0m",
      "\u001b[1;31mNameError\u001b[0m                                 Traceback (most recent call last)",
      "Cell \u001b[1;32mIn[3], line 1\u001b[0m\n\u001b[1;32m----> 1\u001b[0m \u001b[43mvsd\u001b[49m\n",
      "\u001b[1;31mNameError\u001b[0m: name 'vsd' is not defined"
     ]
    }
   ],
   "source": [
    "vsd"
   ]
  },
  {
   "cell_type": "code",
   "execution_count": 4,
   "id": "d1c23a67",
   "metadata": {},
   "outputs": [
    {
     "ename": "NameError",
     "evalue": "name 'fcZSdsz' is not defined",
     "output_type": "error",
     "traceback": [
      "\u001b[1;31m---------------------------------------------------------------------------\u001b[0m",
      "\u001b[1;31mNameError\u001b[0m                                 Traceback (most recent call last)",
      "Cell \u001b[1;32mIn[4], line 1\u001b[0m\n\u001b[1;32m----> 1\u001b[0m \u001b[43mfcZSdsz\u001b[49m\n\u001b[0;32m      2\u001b[0m vz\n",
      "\u001b[1;31mNameError\u001b[0m: name 'fcZSdsz' is not defined"
     ]
    }
   ],
   "source": [
    "fcZSdsz\n",
    "vz"
   ]
  },
  {
   "cell_type": "code",
   "execution_count": 5,
   "id": "c40338a5",
   "metadata": {},
   "outputs": [
    {
     "ename": "NameError",
     "evalue": "name 'vzD' is not defined",
     "output_type": "error",
     "traceback": [
      "\u001b[1;31m---------------------------------------------------------------------------\u001b[0m",
      "\u001b[1;31mNameError\u001b[0m                                 Traceback (most recent call last)",
      "Cell \u001b[1;32mIn[5], line 1\u001b[0m\n\u001b[1;32m----> 1\u001b[0m \u001b[43mvzD\u001b[49m\n",
      "\u001b[1;31mNameError\u001b[0m: name 'vzD' is not defined"
     ]
    }
   ],
   "source": [
    "vzD"
   ]
  },
  {
   "cell_type": "code",
   "execution_count": 6,
   "id": "bee9ecca",
   "metadata": {},
   "outputs": [
    {
     "ename": "NameError",
     "evalue": "name 'xvc' is not defined",
     "output_type": "error",
     "traceback": [
      "\u001b[1;31m---------------------------------------------------------------------------\u001b[0m",
      "\u001b[1;31mNameError\u001b[0m                                 Traceback (most recent call last)",
      "Cell \u001b[1;32mIn[6], line 1\u001b[0m\n\u001b[1;32m----> 1\u001b[0m \u001b[43mxvc\u001b[49m\n",
      "\u001b[1;31mNameError\u001b[0m: name 'xvc' is not defined"
     ]
    }
   ],
   "source": [
    "xvc"
   ]
  },
  {
   "cell_type": "code",
   "execution_count": 7,
   "id": "abdb0e02",
   "metadata": {},
   "outputs": [
    {
     "ename": "NameError",
     "evalue": "name 'Dxv' is not defined",
     "output_type": "error",
     "traceback": [
      "\u001b[1;31m---------------------------------------------------------------------------\u001b[0m",
      "\u001b[1;31mNameError\u001b[0m                                 Traceback (most recent call last)",
      "Cell \u001b[1;32mIn[7], line 1\u001b[0m\n\u001b[1;32m----> 1\u001b[0m \u001b[43mDxv\u001b[49m\n",
      "\u001b[1;31mNameError\u001b[0m: name 'Dxv' is not defined"
     ]
    }
   ],
   "source": [
    "Dxv"
   ]
  },
  {
   "cell_type": "code",
   "execution_count": 8,
   "id": "fec2cab6",
   "metadata": {},
   "outputs": [
    {
     "ename": "NameError",
     "evalue": "name 'XCvdX' is not defined",
     "output_type": "error",
     "traceback": [
      "\u001b[1;31m---------------------------------------------------------------------------\u001b[0m",
      "\u001b[1;31mNameError\u001b[0m                                 Traceback (most recent call last)",
      "Cell \u001b[1;32mIn[8], line 1\u001b[0m\n\u001b[1;32m----> 1\u001b[0m \u001b[43mXCvdX\u001b[49m\n",
      "\u001b[1;31mNameError\u001b[0m: name 'XCvdX' is not defined"
     ]
    }
   ],
   "source": [
    "XCvdX"
   ]
  },
  {
   "cell_type": "code",
   "execution_count": 9,
   "id": "f0f230ec",
   "metadata": {},
   "outputs": [
    {
     "ename": "NameError",
     "evalue": "name 'Dx' is not defined",
     "output_type": "error",
     "traceback": [
      "\u001b[1;31m---------------------------------------------------------------------------\u001b[0m",
      "\u001b[1;31mNameError\u001b[0m                                 Traceback (most recent call last)",
      "Cell \u001b[1;32mIn[9], line 1\u001b[0m\n\u001b[1;32m----> 1\u001b[0m \u001b[43mDx\u001b[49m\n",
      "\u001b[1;31mNameError\u001b[0m: name 'Dx' is not defined"
     ]
    }
   ],
   "source": [
    "Dx"
   ]
  },
  {
   "cell_type": "code",
   "execution_count": 10,
   "id": "d039e345",
   "metadata": {},
   "outputs": [
    {
     "ename": "NameError",
     "evalue": "name 'vx' is not defined",
     "output_type": "error",
     "traceback": [
      "\u001b[1;31m---------------------------------------------------------------------------\u001b[0m",
      "\u001b[1;31mNameError\u001b[0m                                 Traceback (most recent call last)",
      "Cell \u001b[1;32mIn[10], line 1\u001b[0m\n\u001b[1;32m----> 1\u001b[0m \u001b[43mvx\u001b[49m\n",
      "\u001b[1;31mNameError\u001b[0m: name 'vx' is not defined"
     ]
    }
   ],
   "source": [
    "vx"
   ]
  },
  {
   "cell_type": "code",
   "execution_count": 11,
   "id": "e855dc76",
   "metadata": {},
   "outputs": [
    {
     "ename": "NameError",
     "evalue": "name 'DvX' is not defined",
     "output_type": "error",
     "traceback": [
      "\u001b[1;31m---------------------------------------------------------------------------\u001b[0m",
      "\u001b[1;31mNameError\u001b[0m                                 Traceback (most recent call last)",
      "Cell \u001b[1;32mIn[11], line 1\u001b[0m\n\u001b[1;32m----> 1\u001b[0m \u001b[43mDvX\u001b[49m\n",
      "\u001b[1;31mNameError\u001b[0m: name 'DvX' is not defined"
     ]
    }
   ],
   "source": [
    "DvX"
   ]
  },
  {
   "cell_type": "code",
   "execution_count": 12,
   "id": "3c0b92b3",
   "metadata": {},
   "outputs": [
    {
     "ename": "NameError",
     "evalue": "name 'vx' is not defined",
     "output_type": "error",
     "traceback": [
      "\u001b[1;31m---------------------------------------------------------------------------\u001b[0m",
      "\u001b[1;31mNameError\u001b[0m                                 Traceback (most recent call last)",
      "Cell \u001b[1;32mIn[12], line 1\u001b[0m\n\u001b[1;32m----> 1\u001b[0m \u001b[43mvx\u001b[49m\n",
      "\u001b[1;31mNameError\u001b[0m: name 'vx' is not defined"
     ]
    }
   ],
   "source": [
    "vx"
   ]
  },
  {
   "cell_type": "code",
   "execution_count": 13,
   "id": "0da45507",
   "metadata": {},
   "outputs": [
    {
     "ename": "NameError",
     "evalue": "name 'vDX' is not defined",
     "output_type": "error",
     "traceback": [
      "\u001b[1;31m---------------------------------------------------------------------------\u001b[0m",
      "\u001b[1;31mNameError\u001b[0m                                 Traceback (most recent call last)",
      "Cell \u001b[1;32mIn[13], line 1\u001b[0m\n\u001b[1;32m----> 1\u001b[0m \u001b[43mvDX\u001b[49m\n",
      "\u001b[1;31mNameError\u001b[0m: name 'vDX' is not defined"
     ]
    }
   ],
   "source": [
    "vDX"
   ]
  },
  {
   "cell_type": "code",
   "execution_count": null,
   "id": "1d8f7c7e",
   "metadata": {},
   "outputs": [],
   "source": []
  }
 ],
 "metadata": {
  "kernelspec": {
   "display_name": "Python 3 (ipykernel)",
   "language": "python",
   "name": "python3"
  },
  "language_info": {
   "codemirror_mode": {
    "name": "ipython",
    "version": 3
   },
   "file_extension": ".py",
   "mimetype": "text/x-python",
   "name": "python",
   "nbconvert_exporter": "python",
   "pygments_lexer": "ipython3",
   "version": "3.10.5"
  }
 },
 "nbformat": 4,
 "nbformat_minor": 5
}
